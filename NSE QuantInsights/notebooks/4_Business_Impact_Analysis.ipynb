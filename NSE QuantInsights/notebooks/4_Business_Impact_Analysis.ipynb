# Cell 1: Sharpe Ratio Analysis
import numpy as np

returns = np.diff(y_true) * np.sign(np.diff(y_pred))
sharpe = np.mean(returns) / np.std(returns) * np.sqrt(252)
print(f"Annualized Sharpe Ratio: {sharpe:.2f}")

# Cell 2: Drawdown Visualization
cum_returns = np.cumprod(1 + returns)
peak = np.maximum.accumulate(cum_returns)
drawdown = (peak - cum_returns)/peak
print(f"Max Drawdown: {drawdown.max():.2%}")
